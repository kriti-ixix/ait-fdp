{
 "cells": [
  {
   "cell_type": "code",
   "execution_count": 1,
   "id": "c33aff76",
   "metadata": {},
   "outputs": [
    {
     "name": "stdout",
     "output_type": "stream",
     "text": [
      "Hello\n"
     ]
    }
   ],
   "source": [
    "print(\"Hello\")"
   ]
  },
  {
   "cell_type": "code",
   "execution_count": 20,
   "id": "7e33ae99",
   "metadata": {},
   "outputs": [
    {
     "data": {
      "text/plain": [
       "30"
      ]
     },
     "execution_count": 20,
     "metadata": {},
     "output_type": "execute_result"
    }
   ],
   "source": [
    "x = 20\n",
    "y = 10\n",
    "z = x + y\n",
    "z"
   ]
  },
  {
   "cell_type": "markdown",
   "id": "181cc198",
   "metadata": {},
   "source": [
    "This is some sample text"
   ]
  },
  {
   "cell_type": "markdown",
   "id": "d212225c",
   "metadata": {},
   "source": [
    "**Bold**"
   ]
  },
  {
   "cell_type": "markdown",
   "id": "37c156d1",
   "metadata": {},
   "source": [
    "**Three ways to import a library:**\n",
    "1. The entire library\n",
    "2. The entire library using an alias\n",
    "3. Only importing the specific functions/classes"
   ]
  },
  {
   "cell_type": "markdown",
   "id": "566c6640",
   "metadata": {},
   "source": [
    "The entire library:"
   ]
  },
  {
   "cell_type": "code",
   "execution_count": 5,
   "id": "245909cd",
   "metadata": {},
   "outputs": [],
   "source": [
    "import random"
   ]
  },
  {
   "cell_type": "code",
   "execution_count": 8,
   "id": "9978e802",
   "metadata": {},
   "outputs": [
    {
     "data": {
      "text/plain": [
       "40"
      ]
     },
     "execution_count": 8,
     "metadata": {},
     "output_type": "execute_result"
    }
   ],
   "source": [
    "random.randint(10, 100)"
   ]
  },
  {
   "cell_type": "code",
   "execution_count": 11,
   "id": "7859909f",
   "metadata": {},
   "outputs": [
    {
     "data": {
      "text/plain": [
       "94.95543580291697"
      ]
     },
     "execution_count": 11,
     "metadata": {},
     "output_type": "execute_result"
    }
   ],
   "source": [
    "random.uniform(10, 100)"
   ]
  },
  {
   "cell_type": "markdown",
   "id": "ca20f974",
   "metadata": {},
   "source": [
    "Using an alias:"
   ]
  },
  {
   "cell_type": "code",
   "execution_count": 12,
   "id": "bc8d2b44",
   "metadata": {},
   "outputs": [],
   "source": [
    "import random as r"
   ]
  },
  {
   "cell_type": "code",
   "execution_count": 13,
   "id": "5cd3fc1e",
   "metadata": {},
   "outputs": [
    {
     "data": {
      "text/plain": [
       "22"
      ]
     },
     "execution_count": 13,
     "metadata": {},
     "output_type": "execute_result"
    }
   ],
   "source": [
    "r.randint(10, 100)"
   ]
  },
  {
   "cell_type": "markdown",
   "id": "0403572a",
   "metadata": {},
   "source": [
    "Only importing the specific functions/classes"
   ]
  },
  {
   "cell_type": "code",
   "execution_count": 14,
   "id": "bac1909c",
   "metadata": {},
   "outputs": [],
   "source": [
    "from random import randint, uniform, choice"
   ]
  },
  {
   "cell_type": "code",
   "execution_count": 15,
   "id": "0c4c10f3",
   "metadata": {},
   "outputs": [
    {
     "data": {
      "text/plain": [
       "82"
      ]
     },
     "execution_count": 15,
     "metadata": {},
     "output_type": "execute_result"
    }
   ],
   "source": [
    "randint(10, 100)"
   ]
  },
  {
   "cell_type": "code",
   "execution_count": 19,
   "id": "fc17aa1a",
   "metadata": {},
   "outputs": [
    {
     "data": {
      "text/plain": [
       "'Good day'"
      ]
     },
     "execution_count": 19,
     "metadata": {},
     "output_type": "execute_result"
    }
   ],
   "source": [
    "choice([\"Hi\", 4, 20, 45.6, \"Good day\"])"
   ]
  },
  {
   "cell_type": "code",
   "execution_count": null,
   "id": "46b1ea2b",
   "metadata": {},
   "outputs": [],
   "source": []
  }
 ],
 "metadata": {
  "kernelspec": {
   "display_name": "Python 3 (ipykernel)",
   "language": "python",
   "name": "python3"
  },
  "language_info": {
   "codemirror_mode": {
    "name": "ipython",
    "version": 3
   },
   "file_extension": ".py",
   "mimetype": "text/x-python",
   "name": "python",
   "nbconvert_exporter": "python",
   "pygments_lexer": "ipython3",
   "version": "3.8.11"
  }
 },
 "nbformat": 4,
 "nbformat_minor": 5
}
